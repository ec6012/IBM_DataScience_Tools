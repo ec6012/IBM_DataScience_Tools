{
  "metadata": {
    "kernelspec": {
      "name": "python",
      "display_name": "Python (Pyodide)",
      "language": "python"
    },
    "language_info": {
      "codemirror_mode": {
        "name": "python",
        "version": 3
      },
      "file_extension": ".py",
      "mimetype": "text/x-python",
      "name": "python",
      "nbconvert_exporter": "python",
      "pygments_lexer": "ipython3",
      "version": "3.8"
    }
  },
  "nbformat_minor": 5,
  "nbformat": 4,
  "cells": [
    {
      "id": "b516611a-5ff3-4b18-9bba-670c30dcf5aa",
      "cell_type": "markdown",
      "source": "# Data Science Tools and Ecosystem",
      "metadata": {}
    },
    {
      "id": "69bddee0-6f47-42f3-b525-3a0bc0195a95",
      "cell_type": "markdown",
      "source": " In this notebook, Data Science Tools and Ecosystem are summerized.",
      "metadata": {}
    },
    {
      "id": "a8aea1f9-2057-4aa9-bf8c-11cd6ae53e1b",
      "cell_type": "markdown",
      "source": "Some of the popular languages that Data Scientists use are:\n1. Python\n2. SQL\n3. R\n4. Java",
      "metadata": {}
    },
    {
      "id": "fc3efc55-e080-4fda-bf1a-d7ce5d9e9468",
      "cell_type": "markdown",
      "source": "Some of the commonly used libraries used by Data Scientists include:\n1. Pandas\n2. Numpy\n3. SciPy\n4. Matplotlib",
      "metadata": {}
    },
    {
      "id": "8ceec46a-172d-4ee7-99ce-86396cbc4779",
      "cell_type": "markdown",
      "source": "| Data Science Tools|\n|-------------------|\n| Jupyter Notebook |\n| Anaconda |\n| R Studio|",
      "metadata": {}
    },
    {
      "id": "891b7c83-47b7-40e6-b409-9eb1463799a1",
      "cell_type": "markdown",
      "source": "### Below are a few examples of evaluating arithmetic expressions in Python",
      "metadata": {}
    },
    {
      "id": "0d49f846-78eb-4d43-92b0-68e5bf31d139",
      "cell_type": "code",
      "source": "# This a simple arithmetic expression to mutiply then add integers\n(3 * 4) + 5",
      "metadata": {
        "trusted": true
      },
      "outputs": [
        {
          "execution_count": 2,
          "output_type": "execute_result",
          "data": {
            "text/plain": "17"
          },
          "metadata": {}
        }
      ],
      "execution_count": 2
    },
    {
      "id": "65f8e7ac-077d-4e09-b82a-9e00b3f17b36",
      "cell_type": "code",
      "source": "#This will convert 200 minutes to hours by dividing by 60\n200/60",
      "metadata": {
        "trusted": true
      },
      "outputs": [
        {
          "execution_count": 3,
          "output_type": "execute_result",
          "data": {
            "text/plain": "3.3333333333333335"
          },
          "metadata": {}
        }
      ],
      "execution_count": 3
    },
    {
      "id": "49ae6da7-794d-4d7f-ac28-32346c7d7889",
      "cell_type": "markdown",
      "source": "**Objectives:**\n- List popular languages for Data Science\n- List commonly used libraries for Data Science\n- List popular tools for Data Science\n- Arithmetic expressions for addition and multiplication",
      "metadata": {}
    },
    {
      "id": "e3a15d03-e40d-4dcd-9ed6-8dd569f0cca0",
      "cell_type": "markdown",
      "source": "## Author\nChong Chi Jig",
      "metadata": {}
    },
    {
      "id": "231ece24-4686-4eab-b580-da930273ac60",
      "cell_type": "code",
      "source": "",
      "metadata": {
        "trusted": true
      },
      "outputs": [],
      "execution_count": null
    }
  ]
}